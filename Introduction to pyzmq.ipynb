{
 "metadata": {
  "celltoolbar": "Slideshow",
  "kernelspec": {
   "display_name": "Python 3",
   "language": "python",
   "name": "python3"
  },
  "language_info": {
   "codemirror_mode": {
    "name": "ipython",
    "version": 3
   },
   "file_extension": ".py",
   "mimetype": "text/x-python",
   "name": "python",
   "nbconvert_exporter": "python",
   "pygments_lexer": "ipython3",
   "version": "3.4.3"
  },
  "name": "",
  "signature": "sha256:e375167682cfc6ef816d818807cf80445a5612028188610cca33fbd4eb54c2fa"
 },
 "nbformat": 3,
 "nbformat_minor": 0,
 "worksheets": [
  {
   "cells": [
    {
     "cell_type": "heading",
     "level": 1,
     "metadata": {
      "slideshow": {
       "slide_type": "slide"
      }
     },
     "source": [
      "Introduction to pyzmq"
     ]
    },
    {
     "cell_type": "markdown",
     "metadata": {
      "slideshow": {
       "slide_type": "fragment"
      }
     },
     "source": [
      "0MQ:\n",
      "\n",
      "* Is a library which enables communication and concurrent synchronization between processes.\n",
      "* Wraps TCP sockets providing an enhanced communication interface to exchange messages.\n",
      "* Can connect N-to-N components, with patterns like fan-out, pub-sub, or others.\n",
      "* The components can communicate over different transports like in-process, inter-process, TCP or multicast.\n",
      "* It's model provides of asynchronous I/O."
     ]
    },
    {
     "cell_type": "markdown",
     "metadata": {
      "slideshow": {
       "slide_type": "fragment"
      }
     },
     "source": [
      "Covering all possible use cases and underlying technologies would be something long and deep.\n",
      "So this slide will guide through the development of a paor of simple examples."
     ]
    },
    {
     "cell_type": "heading",
     "level": 2,
     "metadata": {
      "slideshow": {
       "slide_type": "slide"
      }
     },
     "source": [
      "Echo example"
     ]
    },
    {
     "cell_type": "markdown",
     "metadata": {},
     "source": [
      "The goal is create two programs:\n",
      "\n",
      "* one will send a string message to the other one, \n",
      "* which will, simply, send it back."
     ]
    },
    {
     "cell_type": "heading",
     "level": 3,
     "metadata": {
      "slideshow": {
       "slide_type": "subslide"
      }
     },
     "source": [
      "Echo server"
     ]
    },
    {
     "cell_type": "code",
     "collapsed": false,
     "input": [
      "%%writefile echo.py\n",
      "#!/usr/bin/env python\n",
      "import zmq\n",
      "from zmq.eventloop import ioloop, zmqstream\n",
      "\n",
      "def echo(stream, message):\n",
      "    stream.send_multipart(message)\n",
      "\n",
      "io_loop = ioloop.IOLoop()\n",
      "context = zmq.Context()\n",
      "socket = context.socket(zmq.ROUTER)\n",
      "stream = zmqstream.ZMQStream(socket, io_loop=io_loop)\n",
      "stream.on_recv_stream(echo)\n",
      "socket.bind('tcp://0.0.0.0:12358')\n",
      "io_loop.start()"
     ],
     "language": "python",
     "metadata": {},
     "outputs": []
    },
    {
     "cell_type": "heading",
     "level": 3,
     "metadata": {
      "slideshow": {
       "slide_type": "subslide"
      }
     },
     "source": [
      "Echo client"
     ]
    },
    {
     "cell_type": "code",
     "collapsed": false,
     "input": [
      "%%writefile client.py\n",
      "#!/usr/bin/env python\n",
      "import zmq\n",
      "\n",
      "context = zmq.Context()\n",
      "\n",
      "s = context.socket(zmq.DEALER)\n",
      "s.connect('tcp://127.0.0.1:12358')\n",
      "for i in range(10):\n",
      "    s.send('Hello world')\n",
      "    print(s.recv())"
     ],
     "language": "python",
     "metadata": {},
     "outputs": []
    },
    {
     "cell_type": "heading",
     "level": 3,
     "metadata": {
      "slideshow": {
       "slide_type": "subslide"
      }
     },
     "source": [
      "Usage"
     ]
    },
    {
     "cell_type": "markdown",
     "metadata": {},
     "source": [
      "In a terminal, run `python echo.py`, and:"
     ]
    },
    {
     "cell_type": "code",
     "collapsed": true,
     "input": [
      "%%bash\n",
      "python client.py"
     ],
     "language": "python",
     "metadata": {},
     "outputs": []
    },
    {
     "cell_type": "heading",
     "level": 2,
     "metadata": {
      "slideshow": {
       "slide_type": "slide"
      }
     },
     "source": [
      "Fibonacci example"
     ]
    },
    {
     "cell_type": "markdown",
     "metadata": {},
     "source": [
      "In a very similar way, now, the client generates a list of integers within certain range, and sends each number to the server.\n",
      "The server reads the integer, and checks if there is any coincidence in the Fibonacci sequence."
     ]
    },
    {
     "cell_type": "heading",
     "level": 3,
     "metadata": {
      "slideshow": {
       "slide_type": "subslide"
      }
     },
     "source": [
      "Fibo server"
     ]
    },
    {
     "cell_type": "code",
     "collapsed": false,
     "input": [
      "%%writefile fibo.py\n",
      "#!/usr/bin/env python\n",
      "import zmq\n",
      "from zmq.eventloop import ioloop, zmqstream\n",
      "\n",
      "def fibonacci(n):\n",
      "    a, b = 0, 1\n",
      "    while n >= a:\n",
      "        yield(a)\n",
      "        a, b = b, a + b\n",
      "    return\n",
      "\n",
      "def fibo(stream, message):\n",
      "    n = int(message[1])\n",
      "    reply = [message[0]] + [str(n in [x for x in fibonacci(n)])]\n",
      "    stream.send_multipart(reply)\n",
      "\n",
      "io_loop = ioloop.IOLoop()\n",
      "context = zmq.Context()\n",
      "socket = context.socket(zmq.ROUTER)\n",
      "stream = zmqstream.ZMQStream(socket, io_loop=io_loop)\n",
      "stream.on_recv_stream(fibo)\n",
      "socket.bind('tcp://0.0.0.0:12358')\n",
      "io_loop.start()"
     ],
     "language": "python",
     "metadata": {},
     "outputs": []
    },
    {
     "cell_type": "heading",
     "level": 3,
     "metadata": {
      "slideshow": {
       "slide_type": "subslide"
      }
     },
     "source": [
      "Nacci client"
     ]
    },
    {
     "cell_type": "code",
     "collapsed": false,
     "input": [
      "%%writefile nacci.py\n",
      "#!/usr/bin/env python\n",
      "import zmq\n",
      "from random import randint\n",
      "\n",
      "context = zmq.Context()\n",
      "\n",
      "s = context.socket(zmq.DEALER)\n",
      "s.connect('tcp://127.0.0.1:12358')\n",
      "for i in range(15):\n",
      "    n = randint(0,200)\n",
      "    s.send(str(n))\n",
      "    print(str(n) + ' ' + s.recv())"
     ],
     "language": "python",
     "metadata": {},
     "outputs": []
    },
    {
     "cell_type": "heading",
     "level": 3,
     "metadata": {
      "slideshow": {
       "slide_type": "subslide"
      }
     },
     "source": [
      "Usage"
     ]
    },
    {
     "cell_type": "markdown",
     "metadata": {},
     "source": [
      "In a terminal, run `python fibo.py`, and then:"
     ]
    },
    {
     "cell_type": "code",
     "collapsed": false,
     "input": [
      "%%bash\n",
      "python nacci.py"
     ],
     "language": "python",
     "metadata": {},
     "outputs": []
    },
    {
     "cell_type": "heading",
     "level": 2,
     "metadata": {
      "slideshow": {
       "slide_type": "slide"
      }
     },
     "source": [
      "Exercise"
     ]
    },
    {
     "cell_type": "markdown",
     "metadata": {},
     "source": [
      "In this session, using what reviewed in those two examples, let's create three different kinds of nodes:"
     ]
    },
    {
     "cell_type": "markdown",
     "metadata": {
      "slideshow": {
       "slide_type": "fragment"
      }
     },
     "source": [
      "* The **Broker** is the only single instance node of the exercise, holding a simple list of IP addresses and ports where others are listening. All other processes in the system know the address of the Broker previously. It will accept connections at port 9999, in the facilitator's computer, accepting just two different commands:\n",
      "\n",
      "  - `REGISTER [<ip>:<port>]` : When receiving this command, the Broker will put the pair IP-port into the internal list, unless the pair IP-port already exists, then, it will reply `HOP`, without adding it.\n",
      "  - `LIST` : When receiving this command, the Broker will send the list as a string separating each `<ip>:<port>` with a single space."
     ]
    },
    {
     "cell_type": "markdown",
     "metadata": {
      "slideshow": {
       "slide_type": "fragment"
      }
     },
     "source": [
      "* The **Hider** is the program with more instances running at the same time. When launched, it will connect to the Broker, and will register its current IP and port, then will disconnect, will randomly choose the name of a city from a list, and will accept connections in that IP and port. It will only accept one single command, including the name of the city, and if the city name provided is the one chosen, it will reply the guess was correct, and then will choose another random city name, and will accept connections again."
     ]
    },
    {
     "cell_type": "markdown",
     "metadata": {
      "slideshow": {
       "slide_type": "subslide"
      }
     },
     "source": [
      "* The **Seeker** is a program which will connect to Broker, and ask for the list of Hiders, and then, will go connecting to each one of the Hiders, asking a possible city. It will store a counter of how much hiders it found and will print in stdout everytime it tries to guess the city for a hider."
     ]
    },
    {
     "cell_type": "markdown",
     "metadata": {
      "slideshow": {
       "slide_type": "fragment"
      }
     },
     "source": [
      "When running the processes, it's quite recommendable to run quite some Hiders, let's say 10, and some less Seekers, let's say 2 or 3.\n",
      "Except for the communication with the broker, which has been defined to provide the broker already created, the rest of the protocols should be defined by the teams."
     ]
    },
    {
     "cell_type": "code",
     "collapsed": false,
     "input": [
      "%%writefile broker.py\n",
      "#!/usr/bin/env python\n",
      "import argparse\n",
      "import zmq\n",
      "from zmq.eventloop import ioloop, zmqstream\n",
      "\n",
      "class Broker(object):\n",
      "\n",
      "    def __init__(self):\n",
      "        self.clients = set()\n",
      "    \n",
      "    def action_register(self, message):\n",
      "        address = message.strip()\n",
      "        if address in self.clients:\n",
      "            return 'HOP'\n",
      "        else:\n",
      "            self.clients.add(address)\n",
      "            return 'OK'\n",
      "    \n",
      "    def action_list(self, message):\n",
      "        return ' '.join(self.clients)\n",
      "        \n",
      "def handle(stream, message):\n",
      "    addr, text = message\n",
      "    print('BROKER: ' + text)\n",
      "    action = text.strip[0]\n",
      "    try:\n",
      "        reply = getattr(broker, 'action_' + action)(text)\n",
      "    except AttributeError:\n",
      "        print('BROKER: Unknown action')\n",
      "        reply = 'ERROR'\n",
      "    stream.send_multipart((addr, reply))\n",
      "\n",
      "io_loop = ioloop.IOLoop()\n",
      "context = zmq.Context()\n",
      "socket = context.socket(zmq.ROUTER)\n",
      "stream = zmqstream.ZMQStream(socket, io_loop=io_loop)\n",
      "stream.on_recv_stream(handle)\n",
      "\n",
      "parser = argparse.ArgumentParser()\n",
      "parser.add_argument('-b', '--bind-address', default='tcp://0.0.0.0:5555')\n",
      "args = parser.parse_args()\n",
      "\n",
      "if __name__ == '__main__':\n",
      "    broker = Broker()\n",
      "    socket.bind(args.bind_address)\n",
      "    io_loop.start()"
     ],
     "language": "python",
     "metadata": {
      "slideshow": {
       "slide_type": "subslide"
      }
     },
     "outputs": []
    },
    {
     "cell_type": "code",
     "collapsed": false,
     "input": [
      "%%writefile hider.py\n",
      "#!/usr/bin/env python\n",
      "import argparse\n",
      "\n",
      "parser = argparse.ArgumentParser()\n",
      "parser.add_argument('-p', '--port', default='5556')\n",
      "parser.add_argument('-b', '--broker', default='tcp://127.0.0.1:5555')\n",
      "args = parser.parse_args()\n"
     ],
     "language": "python",
     "metadata": {
      "slideshow": {
       "slide_type": "skip"
      }
     },
     "outputs": []
    },
    {
     "cell_type": "code",
     "collapsed": false,
     "input": [
      "%%writefile seeker.py\n",
      "#!/usr/bin/env python\n",
      "import argparse\n",
      "\n",
      "parser = argparse.ArgumentParser()\n",
      "parser.add_argument('-b', '--broker', default='tcp://127.0.0.1:5555')"
     ],
     "language": "python",
     "metadata": {
      "slideshow": {
       "slide_type": "skip"
      }
     },
     "outputs": []
    },
    {
     "cell_type": "code",
     "collapsed": false,
     "input": [],
     "language": "python",
     "metadata": {
      "slideshow": {
       "slide_type": "skip"
      }
     },
     "outputs": []
    }
   ],
   "metadata": {}
  }
 ]
}